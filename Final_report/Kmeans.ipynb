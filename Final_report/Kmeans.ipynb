{
 "cells": [
  {
   "cell_type": "code",
   "execution_count": 58,
   "metadata": {},
   "outputs": [],
   "source": [
    "import numpy as np\n",
    "import pandas as pd\n",
    "import matplotlib.pyplot as plt"
   ]
  },
  {
   "cell_type": "code",
   "execution_count": 73,
   "metadata": {},
   "outputs": [
    {
     "name": "stdout",
     "output_type": "stream",
     "text": [
      "(16, 178)\n",
      "(16, 533)\n",
      "(16, 228)\n",
      "(16, 120)\n",
      "(16, 99)\n"
     ]
    }
   ],
   "source": [
    "df = pd.DataFrame({})\n",
    "for i in range(1, 6):\n",
    "    session=pd.read_csv(\"./time_reduced_session\"+str(i)+\".csv\")\n",
    "    session=session.drop(columns='Unnamed: 0')\n",
    "    session=session.sort_values(['V1', 'V2'], ascending=[True, True])\n",
    "    session=session.groupby(['V1','V2']).mean()\n",
    "    session.to_csv(\"../Progress_report/Processed/processed_session\"+str(i)+\".csv\")\n",
    "    print(session.shape)\n",
    "    df=pd.concat([df, session], axis=1)\n",
    "df.to_csv(\"./aggregated_neuron.csv\")"
   ]
  },
  {
   "cell_type": "code",
   "execution_count": 74,
   "metadata": {},
   "outputs": [],
   "source": [
    "def kmeans(X, K, max_iters=100):\n",
    "    # Initialize centroids randomly\n",
    "    centroids = X[np.random.choice(len(X), K, replace=False)]\n",
    "\n",
    "    for i in range(max_iters):\n",
    "        # Compute Euclidean distances between each data point and the centroids\n",
    "        distances = np.sqrt(((X - centroids[:, np.newaxis])**2).sum(axis=2))\n",
    "\n",
    "        # Assign each data point to the nearest centroid\n",
    "        labels = np.argmin(distances, axis=0)\n",
    "\n",
    "        # Update the centroids by taking the mean of all data points assigned to each centroid\n",
    "        new_centroids = np.array([X[labels == j].mean(axis=0) for j in range(K)])\n",
    "\n",
    "        # If the centroids have not moved, exit the loop\n",
    "        if np.allclose(centroids, new_centroids):\n",
    "            break\n",
    "\n",
    "        centroids = new_centroids\n",
    "\n",
    "    return labels, centroids\n"
   ]
  },
  {
   "cell_type": "code",
   "execution_count": 75,
   "metadata": {},
   "outputs": [],
   "source": [
    "labels, centroids = kmeans(df.T.values, K=3)\n",
    "pd.DataFrame(labels).to_csv(\"./Processed/neuron_types.csv\",index=False)"
   ]
  },
  {
   "cell_type": "code",
   "execution_count": null,
   "metadata": {},
   "outputs": [],
   "source": []
  }
 ],
 "metadata": {
  "kernelspec": {
   "display_name": "Python 3",
   "language": "python",
   "name": "python3"
  },
  "language_info": {
   "codemirror_mode": {
    "name": "ipython",
    "version": 3
   },
   "file_extension": ".py",
   "mimetype": "text/x-python",
   "name": "python",
   "nbconvert_exporter": "python",
   "pygments_lexer": "ipython3",
   "version": "3.8.5"
  }
 },
 "nbformat": 4,
 "nbformat_minor": 4
}
